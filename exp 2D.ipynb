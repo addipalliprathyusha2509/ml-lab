{
 "cells": [
  {
   "cell_type": "code",
   "execution_count": 3,
   "id": "69f1a0",
   "metadata": {
    "collapsed": false
   },
   "outputs": [
    {
     "name": "stdout",
     "output_type": "stream",
     "text": [
      "Reg no:111622201118\n",
      "mse: 0.4724999999999999\n"
     ]
    }
   ],
   "source": [
    "import numpy as np\n",
    "def mean_squared_error(y_true, y_pred):\n",
    " squared_diff = (y_true - y_pred)**2\n",
    " mse = np.mean(squared_diff)\n",
    " return mse\n",
    "y_true = np.array([3, -0.5, 2, 7])\n",
    "y_pred = np.array([2.2, 0.0, 2, 8])\n",
    "mse = mean_squared_error(y_true, y_pred)\n",
    "print(\"Reg no:111622201118\")\n",
    "print(f\"mse: {mse}\")\n"
   ]
  },
  {
   "cell_type": "code",
   "execution_count": 0,
   "id": "3c973f",
   "metadata": {
    "collapsed": false
   },
   "outputs": [
   ],
   "source": [
   ]
  }
 ],
 "metadata": {
  "kernelspec": {
   "argv": [
    "/usr/bin/python3",
    "-m",
    "ipykernel",
    "--HistoryManager.enabled=False",
    "--matplotlib=inline",
    "-c",
    "%config InlineBackend.figure_formats = set(['retina'])\nimport matplotlib; matplotlib.rcParams['figure.figsize'] = (12, 7)",
    "-f",
    "{connection_file}"
   ],
   "display_name": "Python 3 (system-wide)",
   "env": {
   },
   "language": "python",
   "metadata": {
    "cocalc": {
     "description": "Python 3 programming language",
     "priority": 100,
     "url": "https://www.python.org/"
    }
   },
   "name": "python3",
   "resource_dir": "/ext/jupyter/kernels/python3"
  },
  "language_info": {
   "codemirror_mode": {
    "name": "ipython",
    "version": 3
   },
   "file_extension": ".py",
   "mimetype": "text/x-python",
   "name": "python",
   "nbconvert_exporter": "python",
   "pygments_lexer": "ipython3",
   "version": "3.10.12"
  }
 },
 "nbformat": 4,
 "nbformat_minor": 4
}