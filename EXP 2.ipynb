{
 "cells": [
  {
   "cell_type": "code",
   "execution_count": 1,
   "id": "e692f0ca-c1a7-4d29-a7b9-e430f783b28d",
   "metadata": {},
   "outputs": [
    {
     "name": "stdout",
     "output_type": "stream",
     "text": [
      "Reg No: 111622201118\n",
      "\n",
      "\n",
      "RSS 0.25 1.0 0.0 0.25\n",
      "Error 0.8928571428571429\n"
     ]
    }
   ],
   "source": [
    "val1 = (1 - (2.5 * 1 + (-2)))**2\n",
    "val2 = (2 - (2.5 * 2 + (-2)))**2\n",
    "val3 = (3 - (2.5 * 2 + (-2)))**2\n",
    "val4 = (6 - (2.5 * 3 + (-2)))**2\n",
    "rss = val1 + val2 + val3 + val4\n",
    "print(\"Reg No: 111622201118\")\n",
    "print(\"\\n\")\n",
    "print(\"RSS\", val1, val2, val3, val4)\n",
    "y = [1, 2, 3, 6]\n",
    "y_mean = sum(y) / len(y)\n",
    "y_var = sum((yi - y_mean)**2 for yi in y)\n",
    "tss = y_var\n",
    "r_squared = 1 - (rss / tss)\n",
    "print(\"Error\", r_squared)"
   ]
  },
  {
   "cell_type": "code",
   "execution_count": null,
   "id": "b6a941e8-5a74-4ba5-ba8b-2dbbfdbcddf7",
   "metadata": {},
   "outputs": [],
   "source": []
  },
  {
   "cell_type": "code",
   "execution_count": null,
   "id": "540337b6-ea9d-44f9-85ab-7ebfc511b9d6",
   "metadata": {},
   "outputs": [],
   "source": []
  }
 ],
 "metadata": {
  "kernelspec": {
   "display_name": "Python 3 (system-wide)",
   "language": "python",
   "name": "python3"
  },
  "language_info": {
   "codemirror_mode": {
    "name": "ipython",
    "version": 3
   },
   "file_extension": ".py",
   "mimetype": "text/x-python",
   "name": "python",
   "nbconvert_exporter": "python",
   "pygments_lexer": "ipython3",
   "version": "3.10.12"
  }
 },
 "nbformat": 4,
 "nbformat_minor": 5
}
