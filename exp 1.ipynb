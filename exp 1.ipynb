{
 "cells": [
  {
   "cell_type": "code",
   "execution_count": 8,
   "id": "fc190a3d-e615-4cb8-acc7-648f18672fcc",
   "metadata": {
    "collapsed": false
   },
   "outputs": [
    {
     "name": "stdout",
     "output_type": "stream",
     "text": [
      "Specific Hypothesis:  ['Sunny', 'Warm', '?', 'Strong', '?', '?']\n",
      "General Hypothesis:  [['Sunny', '?', '?', '?', '?', '?'], ['?', 'Warm', '?', '?', '?', '?']]\n"
     ]
    }
   ],
   "source": [
    "def initialize_hypothesis(num_attributes):\n",
    "    specific_h = ['0'] * num_attributes  # Initialize the most specific hypothesis\n",
    "    general_h = [['?'] * num_attributes]  # Initialize the most general hypothesis\n",
    "    return specific_h, general_h\n",
    "\n",
    "# Function to check if the example is consistent with the hypothesis\n",
    "def is_consistent(h, example):\n",
    "    for i in range(len(h)):\n",
    "        if h[i] != '?' and h[i] != example[i]:\n",
    "            return False\n",
    "    return True\n",
    "\n",
    "# Candidate Elimination Algorithm\n",
    "def candidate_elimination(training_data):\n",
    "    num_attributes = len(training_data[0]) - 1  # Number of attributes (excluding the class label)\n",
    "    specific_h, general_h = initialize_hypothesis(num_attributes)\n",
    "\n",
    "    for example in training_data:\n",
    "        input_vector = example[:-1]  # Features\n",
    "        output_label = example[-1]   # Class label\n",
    "\n",
    "        if output_label == 'Yes':  # Positive example\n",
    "            for i in range(num_attributes):\n",
    "                if specific_h[i] == '0':  # Initialize specific hypothesis\n",
    "                    specific_h[i] = input_vector[i]\n",
    "                elif specific_h[i] != input_vector[i]:\n",
    "                    specific_h[i] = '?'  # Generalize specific hypothesis\n",
    "            general_h = [g for g in general_h if is_consistent(g, input_vector)]\n",
    "\n",
    "        elif output_label == 'No':  # Negative example\n",
    "            new_general_h = []\n",
    "            for g in general_h:\n",
    "                for i in range(num_attributes):\n",
    "                    if g[i] == '?':\n",
    "                        new_h = g.copy()\n",
    "                        new_h[i] = specific_h[i]\n",
    "                        new_general_h.append(new_h)\n",
    "            general_h.extend(new_general_h)\n",
    "            general_h = [g for g in general_h if not is_consistent(g, input_vector)]\n",
    "\n",
    "    # Remove duplicates from general hypothesis\n",
    "    general_h = [list(x) for x in set(tuple(x) for x in general_h)]\n",
    "\n",
    "    return specific_h, general_h\n",
    "\n",
    "# Example dataset\n",
    "training_data = [\n",
    "    ['Sunny', 'Warm', 'Normal', 'Strong', 'Warm', 'Same', 'Yes'],\n",
    "    ['Sunny', 'Warm', 'High', 'Strong', 'Warm', 'Same', 'Yes'],\n",
    "    ['Rainy', 'Cold', 'High', 'Strong', 'Warm', 'Change', 'No'],\n",
    "    ['Sunny', 'Warm', 'High', 'Strong', 'Cool', 'Change', 'Yes']\n",
    "]\n",
    "\n",
    "# Running the algorithm\n",
    "specific_hypothesis, general_hypothesis = candidate_elimination(training_data)\n",
    "\n",
    "print(\"Specific Hypothesis: \", specific_hypothesis)\n",
    "print(\"General Hypothesis: \", general_hypothesis)"
   ]
  },
  {
   "cell_type": "code",
   "execution_count": 0,
   "id": "04ab32ea-038b-4cb0-aa02-864a07a8afb3",
   "metadata": {
    "collapsed": false
   },
   "outputs": [
   ],
   "source": [
   ]
  }
 ],
 "metadata": {
  "kernelspec": {
   "argv": [
    "/usr/bin/python3",
    "-m",
    "ipykernel",
    "--HistoryManager.enabled=False",
    "--matplotlib=inline",
    "-c",
    "%config InlineBackend.figure_formats = set(['retina'])\nimport matplotlib; matplotlib.rcParams['figure.figsize'] = (12, 7)",
    "-f",
    "{connection_file}"
   ],
   "display_name": "Python 3 (system-wide)",
   "env": {
   },
   "language": "python",
   "metadata": {
    "cocalc": {
     "description": "Python 3 programming language",
     "priority": 100,
     "url": "https://www.python.org/"
    }
   },
   "name": "python3",
   "resource_dir": "/ext/jupyter/kernels/python3"
  },
  "language_info": {
   "codemirror_mode": {
    "name": "ipython",
    "version": 3
   },
   "file_extension": ".py",
   "mimetype": "text/x-python",
   "name": "python",
   "nbconvert_exporter": "python",
   "pygments_lexer": "ipython3",
   "version": "3.10.12"
  }
 },
 "nbformat": 4,
 "nbformat_minor": 4
}