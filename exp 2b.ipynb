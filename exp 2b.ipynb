{
 "cells": [
  {
   "cell_type": "code",
   "execution_count": null,
   "id": "0d83aa5c-08b7-4ab9-bcc4-87b5daaa1369",
   "metadata": {},
   "outputs": [],
   "source": [
    "def adjusted_r_squared(r_squared, n, k):\n",
    " adjusted_r_squared = 1 - ((1 - r_squared) * (n - 1) / (n - k - 1))\n",
    " return adjusted_r_squared\n",
    "r_squared_value = 0.75\n",
    "n_obs = 100\n",
    "n_pred = 3\n",
    "result = adjusted_r_squared(r_squared_value, n_obs, n_pred)\n",
    "print(\"Adjusted R-squared:\", result)\n",
    "print(\"reg no:11162220118\")"
   ]
  },
  {
   "cell_type": "code",
   "execution_count": null,
   "id": "8cabbb61-26ba-4cd4-b81c-795a000854f8",
   "metadata": {},
   "outputs": [],
   "source": []
  },
  {
   "cell_type": "code",
   "execution_count": null,
   "id": "717653c2-7850-4e4c-a7d2-ec22ff5ce0dd",
   "metadata": {},
   "outputs": [],
   "source": []
  },
  {
   "cell_type": "code",
   "execution_count": null,
   "id": "ff19b739-951f-44fa-ad7c-eb358dc49803",
   "metadata": {},
   "outputs": [],
   "source": []
  },
  {
   "cell_type": "code",
   "execution_count": null,
   "id": "9a86898f-11e8-4b48-af66-b5ffbafbe15b",
   "metadata": {},
   "outputs": [],
   "source": []
  },
  {
   "cell_type": "code",
   "execution_count": null,
   "id": "05c6fef9-496a-4d54-88d6-3b24f3ffae2f",
   "metadata": {},
   "outputs": [],
   "source": []
  }
 ],
 "metadata": {
  "kernelspec": {
   "display_name": "Python 3 (system-wide)",
   "language": "python",
   "name": "python3"
  },
  "language_info": {
   "codemirror_mode": {
    "name": "ipython",
    "version": 3
   },
   "file_extension": ".py",
   "mimetype": "text/x-python",
   "name": "python",
   "nbconvert_exporter": "python",
   "pygments_lexer": "ipython3",
   "version": "3.10.12"
  }
 },
 "nbformat": 4,
 "nbformat_minor": 5
}
